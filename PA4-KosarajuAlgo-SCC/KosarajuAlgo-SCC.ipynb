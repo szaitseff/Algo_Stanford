{
 "cells": [
  {
   "cell_type": "markdown",
   "metadata": {},
   "source": [
    "## Stanford Algo, Part 1. Programming Assignment 4. \n",
    "\n",
    "### 0. Kosaraju algorithm - Computing strongly connected components\n",
    "\n",
    "Download the following text file (right click and select \"Save As...\"): SCC.txt\n",
    "\n",
    "The file contains the edges of a directed graph. Vertices are labeled as positive integers from 1 to 875714. Every row indicates an edge, the vertex label in first column is the tail and the vertex label in second column is the head (recall the graph is directed, and the edges are directed from the first column vertex to the second column vertex). So for example, the  row looks liks : \"2 47646\". This just means that the vertex with label 2 has an outgoing edge to the vertex with label 47646\n",
    "\n",
    "Your task is to code up the algorithm from the video lectures for computing strongly connected components (SCCs), and to run this algorithm on the given graph.\n",
    "\n",
    "Enter the sizes of the 5 largest SCCs in the given graph using the fields below, in decreasing order of sizes. So if your algorithm computes the sizes of the five largest SCCs to be 500, 400, 300, 200 and 100, enter 500 in the first field, 400 in the second, 300 in the third, and so on. If your algorithm finds less than 5 SCCs, then enter 0 for the remaining fields. Thus, if your algorithm computes only 3 SCCs whose sizes are 400, 300, and 100, then you enter 400, 300, and 100 in the first, second, and third fields, respectively, and 0 in the remaining 2 fields.\n",
    "\n",
    "WARNING: This is the most challenging programming assignment of the course. Because of the size of the graph you may have to manage memory carefully. The best way to do this depends on your programming language and environment, and we strongly suggest that you exchange tips for doing this on the discussion forums."
   ]
  },
  {
   "cell_type": "code",
   "execution_count": 1,
   "metadata": {},
   "outputs": [],
   "source": [
    "# Import necessary modules\n",
    "from time import time\n",
    "from collections import defaultdict"
   ]
  },
  {
   "cell_type": "markdown",
   "metadata": {},
   "source": [
    "### 1. Define the function to build the direct and reversed Graphs from the text file"
   ]
  },
  {
   "cell_type": "code",
   "execution_count": 2,
   "metadata": {},
   "outputs": [],
   "source": [
    "def buildGraph(filename):\n",
    "        ''' Read input file and build G and G_rev with all arcs reversed'''\n",
    "        G, G_rev = defaultdict(list), defaultdict(list)\n",
    "        # Populate dictionary with information from file\n",
    "        with open(filename) as f:\n",
    "            for line in f:\n",
    "                tail, head = line.split()\n",
    "                tail, head = int(tail), int(head)\n",
    "                G[tail].append(head)\n",
    "                G_rev[head].append(tail)\n",
    "        return G, G_rev"
   ]
  },
  {
   "cell_type": "markdown",
   "metadata": {},
   "source": [
    "### 2. Define a class of methods and attributes to implement the Kosaraju's Algo"
   ]
  },
  {
   "cell_type": "code",
   "execution_count": 3,
   "metadata": {},
   "outputs": [],
   "source": [
    "class Kosaraju(object):\n",
    "    def __init__(self, n):\n",
    "        self.n = n             # total numver of vertices\n",
    "        self.explored = set()  # all vertices initialized as unexplored\n",
    "        self.f = []            # list to store the 'magical' ordering of vertices\n",
    "        self.s = None          # current leader\n",
    "        self.leader = defaultdict(int)   # dict of leaders for each vertex          \n",
    "         \n",
    "    def firstPass(self, G):\n",
    "        '''Topo-sort algo for the 1st DFS loop on G_rev'''\n",
    "        self.explored.clear()  # all verices unexplored\n",
    "        for i in range(self.n, 0, -1):   # traverse all vertices\n",
    "            if i not in self.explored:\n",
    "                S = [i]        # intitialize a stack data structure\n",
    "                while S:\n",
    "                    v = S.pop()\n",
    "                    if v not in self.explored:\n",
    "                        self.explored.add(v)\n",
    "                        S.append(v)   # add vertex back to S before neighbors\n",
    "                        for w in G[v]:\n",
    "                            if w not in self.explored:\n",
    "                                S.append(w)\n",
    "                    else:\n",
    "                        self.f.append(v)  # add v to the ordering stack on 2nd view\n",
    "            \n",
    "    def secondPass(self, G):\n",
    "        '''Traverse vertices in the reversed order of f and label\n",
    "            them with vertex from which they are explored'''\n",
    "        self.explored.clear()   # all vertices unexplored\n",
    "        while self.f:\n",
    "            i = self.f.pop()  # traverse f in reverse order\n",
    "            if i not in self.explored:\n",
    "                self.s = i    # set current leader\n",
    "                S = [i]       # initialize a stack data structure\n",
    "                while S:\n",
    "                    v = S.pop()\n",
    "                    if v not in self.explored:\n",
    "                        self.explored.add(v)\n",
    "                        self.leader[v] = self.s\n",
    "                        for w in G[v]:\n",
    "                            S.append(w)"
   ]
  },
  {
   "cell_type": "markdown",
   "metadata": {},
   "source": [
    "### 3. Apply the Kosaraju's algo to compute SCCs in our Graph"
   ]
  },
  {
   "cell_type": "code",
   "execution_count": 4,
   "metadata": {},
   "outputs": [
    {
     "name": "stdout",
     "output_type": "stream",
     "text": [
      "Graphs built in 7.17 secs\n"
     ]
    }
   ],
   "source": [
    "start = time()\n",
    "\n",
    "G, G_rev = buildGraph(\"SCC.txt\")       # build the Graph and its reversed version     \n",
    "V = set(G.keys()).union(G_rev.keys())  # set of the Graph vertices\n",
    "n = len(V)                             # number of verices in the Graph\n",
    "\n",
    "finish = time()\n",
    "print(f'Graphs built in {finish-start:.2f} secs')"
   ]
  },
  {
   "cell_type": "code",
   "execution_count": 5,
   "metadata": {},
   "outputs": [
    {
     "name": "stdout",
     "output_type": "stream",
     "text": [
      "Two-pass Kosaruju algo finished in 4.71 secs\n"
     ]
    }
   ],
   "source": [
    "start = time()\n",
    "\n",
    "g = Kosaraju(n)     # define an instance of Kasaraju class\n",
    "g.firstPass(G_rev)  # 1st DFS pass computes 'magical' ordering of vertices\n",
    "g.secondPass(G)     # 2nd DFS pass finds SCCs in reverse topological order\n",
    "\n",
    "finish = time()\n",
    "print(f'Two-pass Kosaruju algo finished in {finish-start:.2f} secs')"
   ]
  },
  {
   "cell_type": "code",
   "execution_count": 6,
   "metadata": {},
   "outputs": [],
   "source": [
    "# Compute sizes of SCC:\n",
    "sizeSCC = defaultdict(int)        # define a dict for SCC sizes\n",
    "leaders = list(g.leader.values()) # list of leader labels for vertices\n",
    "while leaders:\n",
    "    v = leaders.pop()             # travers the list of leader labels\n",
    "    sizeSCC[v] += 1               # count unique values\n",
    "\n",
    "# Print sizes of the largest SCCs:\n",
    "largestSCC = sorted([v for v in sizeSCC.values()], reverse=True)[:5]\n",
    "#print(f'The five largest SCCs: {largestSCC}')"
   ]
  },
  {
   "cell_type": "code",
   "execution_count": null,
   "metadata": {},
   "outputs": [],
   "source": []
  }
 ],
 "metadata": {
  "kernelspec": {
   "display_name": "Python 3",
   "language": "python",
   "name": "python3"
  },
  "language_info": {
   "codemirror_mode": {
    "name": "ipython",
    "version": 3
   },
   "file_extension": ".py",
   "mimetype": "text/x-python",
   "name": "python",
   "nbconvert_exporter": "python",
   "pygments_lexer": "ipython3",
   "version": "3.7.0"
  }
 },
 "nbformat": 4,
 "nbformat_minor": 2
}
