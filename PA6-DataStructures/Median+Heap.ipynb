{
 "cells": [
  {
   "cell_type": "markdown",
   "metadata": {},
   "source": [
    "## Stanford Algo, Part 1. Programming Assignment 6.\n",
    "### 0. Heaps applications - Median\n",
    "\n",
    "Download the following text file: Median.txt\n",
    "\n",
    "The goal of this problem is to implement the \"Median Maintenance\" algorithm (covered in the Week 5 lecture on heap applications). The text file contains a list of the integers from 1 to 10000 in unsorted order; you should treat this as a stream of numbers, arriving one by one. Letting Xi denote the i-th number of the file, the k-th median Mk is defined as the median of the numbers X1, ..., Xk. (So, if k is odd, then Mk is ((k+1)/2)th smallest number among X1, ..., Xk; if k is even, then Mk is the (k/2)th smallest number among X1, ..., Xk.)\n",
    "\n",
    "In the box below you should type the sum of these 10000 medians, modulo 10000 (i.e., only the last 4 digits). That is, you should compute (M1+M2+M3+...+M10000) mod 10000.\n",
    "\n",
    "OPTIONAL EXERCISE: Compare the performance achieved by heap-based and search-tree-based implementations of the algorithm."
   ]
  },
  {
   "cell_type": "code",
   "execution_count": 1,
   "metadata": {},
   "outputs": [],
   "source": [
    "# import necessary modules\n",
    "from heapq import heappush, heappop"
   ]
  },
  {
   "cell_type": "code",
   "execution_count": 2,
   "metadata": {},
   "outputs": [],
   "source": [
    "# initialize an array of medians and two heaps for median maintenance\n",
    "med, H1, H2 = [], [], []"
   ]
  },
  {
   "cell_type": "code",
   "execution_count": 3,
   "metadata": {},
   "outputs": [],
   "source": [
    "# read integers Xi one by one and update the array of medians\n",
    "with open('Median.txt') as f:\n",
    "    for line in f:\n",
    "        x = int(line)\n",
    "        \n",
    "        # if H2 is empty, populate H1 first with -x (to implement max heap)\n",
    "        if not H2:\n",
    "            heappush(H1, -x)\n",
    "        # insert the new item into H2 if x >= min(H2) else into H1 \n",
    "        else:\n",
    "            y = heappop(H2)  # get the smallest item from H2\n",
    "            heappush(H2, y)  # insert it back to H2\n",
    "            if x >= y:\n",
    "                heappush(H2, x) \n",
    "            else:\n",
    "                heappush(H1, -x)\n",
    "        \n",
    "        # rebalance the heaps if needed\n",
    "        if len(H1) - len(H2) > 1:\n",
    "            z = -heappop(H1)\n",
    "            heappush(H2, z)\n",
    "        elif len(H2) - len(H1) > 0:\n",
    "            z = heappop(H2)\n",
    "            heappush(H1, -z)\n",
    "        \n",
    "        # update the array of medians with max(H1)\n",
    "        m = -heappop(H1)\n",
    "        heappush(H1, -m)\n",
    "        med.append(m)"
   ]
  },
  {
   "cell_type": "code",
   "execution_count": 4,
   "metadata": {},
   "outputs": [],
   "source": [
    "answer = sum(med) % len(med)\n",
    "#print(answer)"
   ]
  },
  {
   "cell_type": "code",
   "execution_count": null,
   "metadata": {},
   "outputs": [],
   "source": []
  }
 ],
 "metadata": {
  "kernelspec": {
   "display_name": "Python 3",
   "language": "python",
   "name": "python3"
  },
  "language_info": {
   "codemirror_mode": {
    "name": "ipython",
    "version": 3
   },
   "file_extension": ".py",
   "mimetype": "text/x-python",
   "name": "python",
   "nbconvert_exporter": "python",
   "pygments_lexer": "ipython3",
   "version": "3.7.0"
  }
 },
 "nbformat": 4,
 "nbformat_minor": 2
}
