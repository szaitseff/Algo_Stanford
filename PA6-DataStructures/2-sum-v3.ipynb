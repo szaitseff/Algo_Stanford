{
 "cells": [
  {
   "cell_type": "markdown",
   "metadata": {},
   "source": [
    "## Stanford Algo, Part 1. Programming Assignment 6."
   ]
  },
  {
   "cell_type": "markdown",
   "metadata": {},
   "source": [
    "### 0. The 2-SUM problem\n",
    "\n",
    "Download the following text file: algo1-programming_prob-2sum.txt\n",
    "\n",
    "The goal of this problem is to implement a variant of the 2-SUM algorithm (covered in the Week 6 lecture on hash table applications).\n",
    "\n",
    "The file contains 1 million integers, both positive and negative (there might be some repetitions!). This is your array of integers, with the **_i-th_** row of the file specifying the **_i-th_** entry of the array.\n",
    "\n",
    "Your task is to compute the number of target values t in the interval [-10000,10000] (inclusive) such that there are distinct numbers **_x, y_** in the input file that satisfy **_x + y = t_**. (NOTE: ensuring distinctness requires a one-line addition to the algorithm from lecture.)\n",
    "\n",
    "Write your numeric answer (an integer between 0 and 20001) in the space provided.\n",
    "\n",
    "OPTIONAL CHALLENGE: If this problem is too easy for you, try implementing your own hash table for it. For example, you could compare performance under the chaining and open addressing approaches to resolving collisions."
   ]
  },
  {
   "cell_type": "code",
   "execution_count": 1,
   "metadata": {},
   "outputs": [],
   "source": [
    "# import necessary modules\n",
    "from time import time\n",
    "from bisect import bisect"
   ]
  },
  {
   "cell_type": "markdown",
   "metadata": {},
   "source": [
    "### 1. Load and explore input data"
   ]
  },
  {
   "cell_type": "code",
   "execution_count": 2,
   "metadata": {},
   "outputs": [],
   "source": [
    "def loadArray(filename):\n",
    "    '''Load input array separating it into two subarrays:\n",
    "        L1 with negative values and L2 with positive values'''\n",
    "    L1, L2 = [], []\n",
    "    with open(filename) as f:\n",
    "        for line in f:\n",
    "            k = int(line)\n",
    "            if k < 0:\n",
    "                L1.append(k)\n",
    "            else:\n",
    "                L2.append(k)\n",
    "    return sorted(L1), sorted(L2)"
   ]
  },
  {
   "cell_type": "code",
   "execution_count": 3,
   "metadata": {},
   "outputs": [
    {
     "name": "stdout",
     "output_type": "stream",
     "text": [
      "Array is loaded in 0.95 secs\n",
      "len(L1) = 499990, len(L2) = 500010\n",
      "min(L1) = -99999887310, max(L1) = -87405\n",
      "min(L2) = 112177, max(L2) = 99999662302\n"
     ]
    }
   ],
   "source": [
    "# explore input data: they are represented by large negatives and positives\n",
    "start = time()\n",
    "L1, L2 = loadArray('algo1-programming_prob-2sum.txt')\n",
    "finish = time()\n",
    "print(f'Array is loaded in {finish - start:.2f} secs')\n",
    "print(f'len(L1) = {len(L1)}, len(L2) = {len(L2)}')\n",
    "print(f'min(L1) = {min(L1)}, max(L1) = {max(L1)}')\n",
    "print(f'min(L2) = {min(L2)}, max(L2) = {max(L2)}')"
   ]
  },
  {
   "cell_type": "markdown",
   "metadata": {},
   "source": [
    "**Conclusion:** The input data consist of large negative and positive numbers. The max of negatives = -87405, the min of positives = 112177. The positives and negatives are approximately equally populated and divided into two subarrays L1 and L2. If we want a sum of two numbers x+y to be in the range -10000 to +10000 (i.e. comparably small numbers), than inevitably x should negative and y positive, or vice versa. It means we can iterate x only in the negative subarray L1 and look up y in the positive subarray L2 within the interval -x-10000 to -x+10000. So we need only one traversal of x over L1 with mostly constant time lookups into L2 (i.e. mostly no or very few items y in L2 in the range -x-10000 to -x+10000).\n",
    "\n",
    "**Note:** My first implementation was based on the traversal of x over the whole dataset with lookups of y=t-x in a hash table for each t in the range -10000, 10000. It means 1e6 x 20e3 = 20e9 or 20 billion lookups! It produced the correct result, but the code run over 8300 sec (2.3 hours). The current implementation produces the correct answer in less than a second!!!"
   ]
  },
  {
   "cell_type": "markdown",
   "metadata": {},
   "source": [
    "### 2. Efficient algorithm for 2-SUM problem based on sorted arrays"
   ]
  },
  {
   "cell_type": "code",
   "execution_count": 4,
   "metadata": {},
   "outputs": [
    {
     "name": "stdout",
     "output_type": "stream",
     "text": [
      "The number of target values = xxx was calculated in 0.74 secs\n"
     ]
    }
   ],
   "source": [
    "# if x in L1, than y should be in L2 and within [-x-10000, -x+10000]\n",
    "start = time()\n",
    "target = len(set([x+y for x in L1 for y in L2[bisect(L2, -x-10000):bisect(L2, -x+10000)]]))\n",
    "finish = time()\n",
    "print(f'The number of target values = xxx was calculated in {finish-start:.2f} secs')"
   ]
  },
  {
   "cell_type": "code",
   "execution_count": null,
   "metadata": {},
   "outputs": [],
   "source": []
  }
 ],
 "metadata": {
  "kernelspec": {
   "display_name": "Python 3",
   "language": "python",
   "name": "python3"
  },
  "language_info": {
   "codemirror_mode": {
    "name": "ipython",
    "version": 3
   },
   "file_extension": ".py",
   "mimetype": "text/x-python",
   "name": "python",
   "nbconvert_exporter": "python",
   "pygments_lexer": "ipython3",
   "version": "3.7.0"
  }
 },
 "nbformat": 4,
 "nbformat_minor": 2
}
